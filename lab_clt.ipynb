{
 "cells": [
  {
   "cell_type": "markdown",
   "metadata": {},
   "source": [
    "# Exploring the Central Limit Theorem via Simulations\n",
    "\n",
    "Let's look at an example of applying the central limit theorem.\n",
    "\n",
    "Suppose $X_1, \\ldots, X_{50} \\sim \\text{Exp}(2)$.  As a reminder, if $X \\sim Exp(\\lambda)$ then the density function is given by\n",
    "\n",
    "$f(x | \\lambda) = \\lambda e^{-\\lambda x}$\n",
    "\n",
    "The mean and variance are given by $E(X) = \\frac{1}{\\lambda}$ and $Var(X) = \\frac{1}{\\lambda^2}$.\n",
    "\n",
    "Here is a plot of the Exp$(2)$ distribution:"
   ]
  },
  {
   "cell_type": "code",
   "execution_count": 10,
   "metadata": {},
   "outputs": [
    {
     "data": {},
     "metadata": {},
     "output_type": "display_data"
    },
    {
     "data": {
      "image/png": "[encoded data removed]",
      "text/plain": [
       "plot without title"
      ]
     },
     "metadata": {},
     "output_type": "display_data"
    }
   ],
   "source": [
    "library(ggplot2)\n",
    "\n",
    "base_df <- data.frame(\n",
    "  x = c(0, 4)\n",
    ")\n",
    "\n",
    "ggplot(data = base_df, mapping = aes(x = x)) +\n",
    "  stat_function(fun = dexp, args = list(rate = 2))"
   ]
  },
  {
   "cell_type": "markdown",
   "metadata": {},
   "source": [
    "### (a) Find the normal approximation to the sampling distribution of the sample mean from the Central Limit Theorem"
   ]
  },
  {
   "cell_type": "markdown",
   "metadata": {},
   "source": []
  },
  {
   "cell_type": "markdown",
   "metadata": {},
   "source": [
    "### (b) Using the normal approximation from part (a), find an approximate value for the probability $P(\\bar{X} > 0.6)$\n",
    "\n",
    "You may find it helpful to use the `pnorm` function.  For example, if $X \\sim \\text{Normal}(4, 3^2)$ then `pnorm(1, mean = 4, sd = 3)` calculates $P(X \\leq 1)$."
   ]
  },
  {
   "cell_type": "code",
   "execution_count": null,
   "metadata": {},
   "outputs": [],
   "source": []
  },
  {
   "cell_type": "markdown",
   "metadata": {},
   "source": [
    "### (c) Perform a simulation to get a different approximation to the sampling distribution of the sample mean\n",
    "\n",
    "There is some starter code below.  In this code, we repeatedly simulate samples of size 30 from the specified Gamma distribution and calculate the sample mean based on each of those samples.  By repeating this process 1000 times, we can get a simulated approximation to the sampling distribution of the sample mean."
   ]
  },
  {
   "cell_type": "code",
   "execution_count": null,
   "metadata": {},
   "outputs": [],
   "source": [
    "# how many simulations to perform\n",
    "n_sims <- 10000\n",
    "\n",
    "# sample size to generate in each simulation\n",
    "sample_size <- 50\n",
    "\n",
    "# initialize a storage vector for the results\n",
    "# in R, memory allocation in slow, so it's best to create an empty vector before a for loop,\n",
    "# and then set each element of the vector\n",
    "simulation_results <- data.frame(\n",
    "    sample_mean = numeric(n_sims)\n",
    ")\n",
    "\n",
    "# a for loop runs the commands between the curly brackets {} multiple times\n",
    "# in this case, we run these commands once for each value of i in the vector created by seq_len(n_sims)\n",
    "# it's good practice to create the indices for the loop via seq_len(n_sims) instead of\n",
    "# something like 1:n_sims because this way the loop will run 0 times if n_sims is 0\n",
    "# (if n_sims was equal to 0 and you used 1:n_sims, the loop would run twice:\n",
    "# once for i = 1 and once for i = 0)\n",
    "for(i in seq_len(n_sims)) {\n",
    "    x <- rexp(sample_size, rate = 2)\n",
    "    simulation_results$sample_mean[i] <- mean(x)\n",
    "}\n",
    "\n",
    "# Insert code here to make a plot of the simulation results, compared to the approximate normal distribution\n",
    "# you calculated in part (a) for the sampling distribution of the sample mean.\n",
    "# Use ggplot, with geom_density to summarize the results of the sample study\n",
    "# and stat_function to plot the approximate normal distribution.\n",
    "# There is example code for this in the first problem set.\n",
    "\n",
    "\n",
    "# Insert code here to calculate the mean (using the mean function)\n",
    "# and standard deviation (using the sd function) of the simulation results\n",
    "\n",
    "\n",
    "# Insert code here to calculate the proportion of simulations where the sample mean was greater than 3.\n",
    "# You can do this in two stages: first, a comparison like simulation_results$sample_mean > 3 will return a logical vector,\n",
    "# with TRUE in positions where the condition is met and FALSE in positions where the condition is not met.\n",
    "# Second, R computes the mean of a logical vector as the proportion of entries that are TRUE.\n",
    "# For example, mean(c(TRUE, TRUE, FALSE, FALSE)) = 0.5\n",
    "\n"
   ]
  },
  {
   "cell_type": "markdown",
   "metadata": {},
   "source": [
    "### (d) How do the results from part (c) compare to your results from parts (a) and (b)?\n",
    "\n",
    "Discuss three things:\n",
    " * the plot of the simulated sampling distribution as compared to the normal approximation;\n",
    " * the mean and standard deviation of the simulated sampling distribution as compared to the normal approximation;\n",
    " * the estimated probability that the sample mean will be greater than 3 from the simulation study as compared to the probability calculated from the normal approximation."
   ]
  },
  {
   "cell_type": "markdown",
   "metadata": {},
   "source": []
  }
 ],
 "metadata": {
  "kernelspec": {
   "display_name": "R",
   "language": "R",
   "name": "ir"
  },
  "language_info": {
   "codemirror_mode": "r",
   "file_extension": ".r",
   "mimetype": "text/x-r-source",
   "name": "R",
   "pygments_lexer": "r",
   "version": "3.4.3"
  }
 },
 "nbformat": 4,
 "nbformat_minor": 2
}
