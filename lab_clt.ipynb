{
 "cells": [
  {
   "cell_type": "markdown",
   "metadata": {},
   "source": [
    "# Exploring the Central Limit Theorem via Simulations\n",
    "\n",
    "Let's look at an example of applying the central limit theorem.\n",
    "\n",
    "Suppose $X_1, \\ldots, X_{50} \\sim \\text{Exp}(2)$.  As a reminder, if $X \\sim Exp(\\lambda)$ then the density function is given by\n",
    "\n",
    "$f(x | \\lambda) = \\lambda e^{-\\lambda x}$\n",
    "\n",
    "The mean and variance are given by $E(X) = \\frac{1}{\\lambda}$ and $Var(X) = \\frac{1}{\\lambda^2}$.\n",
    "\n",
    "Here is a plot of the Exp$(2)$ distribution:"
   ]
  },
  {
   "cell_type": "code",
   "execution_count": 1,
   "metadata": {},
   "outputs": [
    {
     "name": "stderr",
     "output_type": "stream",
     "text": [
      "\n",
      "Attaching package: ‘dplyr’\n",
      "\n",
      "The following objects are masked from ‘package:stats’:\n",
      "\n",
      "    filter, lag\n",
      "\n",
      "The following objects are masked from ‘package:base’:\n",
      "\n",
      "    intersect, setdiff, setequal, union\n",
      "\n"
     ]
    },
    {
     "data": {},
     "metadata": {},
     "output_type": "display_data"
    },
    {
     "data": {
      "image/png": "[encoded data removed]",
      "text/plain": [
       "plot without title"
      ]
     },
     "metadata": {},
     "output_type": "display_data"
    }
   ],
   "source": [
    "library(ggplot2)\n",
    "library(dplyr)\n",
    "\n",
    "base_df <- data.frame(\n",
    "  x = c(0, 4)\n",
    ")\n",
    "\n",
    "ggplot(data = base_df, mapping = aes(x = x)) +\n",
    "  stat_function(fun = dexp, args = list(rate = 2))"
   ]
  },
  {
   "cell_type": "markdown",
   "metadata": {},
   "source": [
    "### (a) Find the normal approximation to the sampling distribution of the sample mean from the Central Limit Theorem"
   ]
  },
  {
   "cell_type": "markdown",
   "metadata": {},
   "source": [
    "The mean of each exponential random variable is $\\frac{1}{\\lambda} = \\frac{1}{2}$, and the variance is $\\frac{1}{\\lambda^2} = \\frac{1}{4}$.  The approximation to the sampling distribution of the sample mean from the Central Limit Theorem is therefore\n",
    "\n",
    "$\\bar{X} \\sim \\text{Normal}(\\frac{1}{2}, \\frac{1}{4 \\cdot 50})$"
   ]
  },
  {
   "cell_type": "markdown",
   "metadata": {},
   "source": [
    "### (b) Using the normal approximation from part (a), find an approximate value for the probability $P(\\bar{X} > 0.6)$\n",
    "\n",
    "You may find it helpful to use the `pnorm` function.  For example, if $X \\sim \\text{Normal}(4, 3^2)$ then `pnorm(1, mean = 4, sd = 3)` calculates $P(X \\leq 1)$."
   ]
  },
  {
   "cell_type": "code",
   "execution_count": 2,
   "metadata": {},
   "outputs": [
    {
     "data": {
      "text/html": [
       "0.0786496035251426"
      ],
      "text/latex": [
       "0.0786496035251426"
      ],
      "text/markdown": [
       "0.0786496035251426"
      ],
      "text/plain": [
       "[1] 0.0786496"
      ]
     },
     "metadata": {},
     "output_type": "display_data"
    }
   ],
   "source": [
    "1 - pnorm(0.6, mean = 0.5, sd = sqrt(1/200))"
   ]
  },
  {
   "cell_type": "markdown",
   "metadata": {},
   "source": [
    "### (c) Perform a simulation to get a different approximation to the sampling distribution of the sample mean\n",
    "\n",
    "There is some starter code below.  In this code, we repeatedly simulate samples of size 30 from the specified Gamma distribution and calculate the sample mean based on each of those samples.  By repeating this process 1000 times, we can get a simulated approximation to the sampling distribution of the sample mean."
   ]
  },
  {
   "cell_type": "code",
   "execution_count": 4,
   "metadata": {
    "scrolled": false
   },
   "outputs": [
    {
     "data": {
      "text/html": [
       "<table>\n",
       "<thead><tr><th scope=col>sample_mean</th></tr></thead>\n",
       "<tbody>\n",
       "\t<tr><td>0.4920208</td></tr>\n",
       "\t<tr><td>0.5386556</td></tr>\n",
       "\t<tr><td>0.4473411</td></tr>\n",
       "\t<tr><td>0.5219509</td></tr>\n",
       "\t<tr><td>0.4609024</td></tr>\n",
       "\t<tr><td>0.5270131</td></tr>\n",
       "\t<tr><td>0.4787346</td></tr>\n",
       "\t<tr><td>0.4259347</td></tr>\n",
       "\t<tr><td>0.4966352</td></tr>\n",
       "\t<tr><td>0.3863542</td></tr>\n",
       "\t<tr><td>0.7155570</td></tr>\n",
       "\t<tr><td>0.4725819</td></tr>\n",
       "\t<tr><td>0.5078075</td></tr>\n",
       "\t<tr><td>0.5406505</td></tr>\n",
       "\t<tr><td>0.5650779</td></tr>\n",
       "\t<tr><td>0.4593090</td></tr>\n",
       "\t<tr><td>0.5735507</td></tr>\n",
       "\t<tr><td>0.5856999</td></tr>\n",
       "\t<tr><td>0.5208866</td></tr>\n",
       "\t<tr><td>0.5963632</td></tr>\n",
       "\t<tr><td>0.4042481</td></tr>\n",
       "\t<tr><td>0.4597549</td></tr>\n",
       "\t<tr><td>0.5500281</td></tr>\n",
       "\t<tr><td>0.6028430</td></tr>\n",
       "\t<tr><td>0.6348752</td></tr>\n",
       "\t<tr><td>0.5947068</td></tr>\n",
       "\t<tr><td>0.3835202</td></tr>\n",
       "\t<tr><td>0.5502068</td></tr>\n",
       "\t<tr><td>0.4732691</td></tr>\n",
       "\t<tr><td>0.4162935</td></tr>\n",
       "\t<tr><td>⋮</td></tr>\n",
       "\t<tr><td>0.5320175</td></tr>\n",
       "\t<tr><td>0.4177769</td></tr>\n",
       "\t<tr><td>0.4492322</td></tr>\n",
       "\t<tr><td>0.5791930</td></tr>\n",
       "\t<tr><td>0.4601609</td></tr>\n",
       "\t<tr><td>0.5068138</td></tr>\n",
       "\t<tr><td>0.4718648</td></tr>\n",
       "\t<tr><td>0.5562507</td></tr>\n",
       "\t<tr><td>0.4615710</td></tr>\n",
       "\t<tr><td>0.4906481</td></tr>\n",
       "\t<tr><td>0.4424945</td></tr>\n",
       "\t<tr><td>0.3968470</td></tr>\n",
       "\t<tr><td>0.5197508</td></tr>\n",
       "\t<tr><td>0.4055856</td></tr>\n",
       "\t<tr><td>0.4860258</td></tr>\n",
       "\t<tr><td>0.5098017</td></tr>\n",
       "\t<tr><td>0.5673192</td></tr>\n",
       "\t<tr><td>0.4767211</td></tr>\n",
       "\t<tr><td>0.4709454</td></tr>\n",
       "\t<tr><td>0.6071091</td></tr>\n",
       "\t<tr><td>0.4443275</td></tr>\n",
       "\t<tr><td>0.4072273</td></tr>\n",
       "\t<tr><td>0.4792549</td></tr>\n",
       "\t<tr><td>0.5282050</td></tr>\n",
       "\t<tr><td>0.5921781</td></tr>\n",
       "\t<tr><td>0.4765806</td></tr>\n",
       "\t<tr><td>0.5951626</td></tr>\n",
       "\t<tr><td>0.5059282</td></tr>\n",
       "\t<tr><td>0.4224962</td></tr>\n",
       "\t<tr><td>0.6322838</td></tr>\n",
       "</tbody>\n",
       "</table>\n"
      ],
      "text/latex": [
       "\\begin{tabular}{r|l}\n",
       " sample\\_mean\\\\\n",
       "\\hline\n",
       "\t 0.4920208\\\\\n",
       "\t 0.5386556\\\\\n",
       "\t 0.4473411\\\\\n",
       "\t 0.5219509\\\\\n",
       "\t 0.4609024\\\\\n",
       "\t 0.5270131\\\\\n",
       "\t 0.4787346\\\\\n",
       "\t 0.4259347\\\\\n",
       "\t 0.4966352\\\\\n",
       "\t 0.3863542\\\\\n",
       "\t 0.7155570\\\\\n",
       "\t 0.4725819\\\\\n",
       "\t 0.5078075\\\\\n",
       "\t 0.5406505\\\\\n",
       "\t 0.5650779\\\\\n",
       "\t 0.4593090\\\\\n",
       "\t 0.5735507\\\\\n",
       "\t 0.5856999\\\\\n",
       "\t 0.5208866\\\\\n",
       "\t 0.5963632\\\\\n",
       "\t 0.4042481\\\\\n",
       "\t 0.4597549\\\\\n",
       "\t 0.5500281\\\\\n",
       "\t 0.6028430\\\\\n",
       "\t 0.6348752\\\\\n",
       "\t 0.5947068\\\\\n",
       "\t 0.3835202\\\\\n",
       "\t 0.5502068\\\\\n",
       "\t 0.4732691\\\\\n",
       "\t 0.4162935\\\\\n",
       "\t ⋮\\\\\n",
       "\t 0.5320175\\\\\n",
       "\t 0.4177769\\\\\n",
       "\t 0.4492322\\\\\n",
       "\t 0.5791930\\\\\n",
       "\t 0.4601609\\\\\n",
       "\t 0.5068138\\\\\n",
       "\t 0.4718648\\\\\n",
       "\t 0.5562507\\\\\n",
       "\t 0.4615710\\\\\n",
       "\t 0.4906481\\\\\n",
       "\t 0.4424945\\\\\n",
       "\t 0.3968470\\\\\n",
       "\t 0.5197508\\\\\n",
       "\t 0.4055856\\\\\n",
       "\t 0.4860258\\\\\n",
       "\t 0.5098017\\\\\n",
       "\t 0.5673192\\\\\n",
       "\t 0.4767211\\\\\n",
       "\t 0.4709454\\\\\n",
       "\t 0.6071091\\\\\n",
       "\t 0.4443275\\\\\n",
       "\t 0.4072273\\\\\n",
       "\t 0.4792549\\\\\n",
       "\t 0.5282050\\\\\n",
       "\t 0.5921781\\\\\n",
       "\t 0.4765806\\\\\n",
       "\t 0.5951626\\\\\n",
       "\t 0.5059282\\\\\n",
       "\t 0.4224962\\\\\n",
       "\t 0.6322838\\\\\n",
       "\\end{tabular}\n"
      ],
      "text/markdown": [
       "\n",
       "sample_mean | \n",
       "|---|---|---|---|---|---|---|---|---|---|---|---|---|---|---|---|---|---|---|---|---|---|---|---|---|---|---|---|---|---|---|---|---|---|---|---|---|---|---|---|---|---|---|---|---|---|---|---|---|---|---|---|---|---|---|---|---|---|---|---|---|\n",
       "| 0.4920208 | \n",
       "| 0.5386556 | \n",
       "| 0.4473411 | \n",
       "| 0.5219509 | \n",
       "| 0.4609024 | \n",
       "| 0.5270131 | \n",
       "| 0.4787346 | \n",
       "| 0.4259347 | \n",
       "| 0.4966352 | \n",
       "| 0.3863542 | \n",
       "| 0.7155570 | \n",
       "| 0.4725819 | \n",
       "| 0.5078075 | \n",
       "| 0.5406505 | \n",
       "| 0.5650779 | \n",
       "| 0.4593090 | \n",
       "| 0.5735507 | \n",
       "| 0.5856999 | \n",
       "| 0.5208866 | \n",
       "| 0.5963632 | \n",
       "| 0.4042481 | \n",
       "| 0.4597549 | \n",
       "| 0.5500281 | \n",
       "| 0.6028430 | \n",
       "| 0.6348752 | \n",
       "| 0.5947068 | \n",
       "| 0.3835202 | \n",
       "| 0.5502068 | \n",
       "| 0.4732691 | \n",
       "| 0.4162935 | \n",
       "| ⋮ | \n",
       "| 0.5320175 | \n",
       "| 0.4177769 | \n",
       "| 0.4492322 | \n",
       "| 0.5791930 | \n",
       "| 0.4601609 | \n",
       "| 0.5068138 | \n",
       "| 0.4718648 | \n",
       "| 0.5562507 | \n",
       "| 0.4615710 | \n",
       "| 0.4906481 | \n",
       "| 0.4424945 | \n",
       "| 0.3968470 | \n",
       "| 0.5197508 | \n",
       "| 0.4055856 | \n",
       "| 0.4860258 | \n",
       "| 0.5098017 | \n",
       "| 0.5673192 | \n",
       "| 0.4767211 | \n",
       "| 0.4709454 | \n",
       "| 0.6071091 | \n",
       "| 0.4443275 | \n",
       "| 0.4072273 | \n",
       "| 0.4792549 | \n",
       "| 0.5282050 | \n",
       "| 0.5921781 | \n",
       "| 0.4765806 | \n",
       "| 0.5951626 | \n",
       "| 0.5059282 | \n",
       "| 0.4224962 | \n",
       "| 0.6322838 | \n",
       "\n",
       "\n"
      ],
      "text/plain": [
       "      sample_mean\n",
       "1     0.4920208  \n",
       "2     0.5386556  \n",
       "3     0.4473411  \n",
       "4     0.5219509  \n",
       "5     0.4609024  \n",
       "6     0.5270131  \n",
       "7     0.4787346  \n",
       "8     0.4259347  \n",
       "9     0.4966352  \n",
       "10    0.3863542  \n",
       "11    0.7155570  \n",
       "12    0.4725819  \n",
       "13    0.5078075  \n",
       "14    0.5406505  \n",
       "15    0.5650779  \n",
       "16    0.4593090  \n",
       "17    0.5735507  \n",
       "18    0.5856999  \n",
       "19    0.5208866  \n",
       "20    0.5963632  \n",
       "21    0.4042481  \n",
       "22    0.4597549  \n",
       "23    0.5500281  \n",
       "24    0.6028430  \n",
       "25    0.6348752  \n",
       "26    0.5947068  \n",
       "27    0.3835202  \n",
       "28    0.5502068  \n",
       "29    0.4732691  \n",
       "30    0.4162935  \n",
       "⋮     ⋮          \n",
       "9971  0.5320175  \n",
       "9972  0.4177769  \n",
       "9973  0.4492322  \n",
       "9974  0.5791930  \n",
       "9975  0.4601609  \n",
       "9976  0.5068138  \n",
       "9977  0.4718648  \n",
       "9978  0.5562507  \n",
       "9979  0.4615710  \n",
       "9980  0.4906481  \n",
       "9981  0.4424945  \n",
       "9982  0.3968470  \n",
       "9983  0.5197508  \n",
       "9984  0.4055856  \n",
       "9985  0.4860258  \n",
       "9986  0.5098017  \n",
       "9987  0.5673192  \n",
       "9988  0.4767211  \n",
       "9989  0.4709454  \n",
       "9990  0.6071091  \n",
       "9991  0.4443275  \n",
       "9992  0.4072273  \n",
       "9993  0.4792549  \n",
       "9994  0.5282050  \n",
       "9995  0.5921781  \n",
       "9996  0.4765806  \n",
       "9997  0.5951626  \n",
       "9998  0.5059282  \n",
       "9999  0.4224962  \n",
       "10000 0.6322838  "
      ]
     },
     "metadata": {},
     "output_type": "display_data"
    },
    {
     "data": {},
     "metadata": {},
     "output_type": "display_data"
    },
    {
     "data": {
      "text/html": [
       "<table>\n",
       "<thead><tr><th scope=col>mean</th><th scope=col>sd</th></tr></thead>\n",
       "<tbody>\n",
       "\t<tr><td>0.500095  </td><td>0.07021924</td></tr>\n",
       "</tbody>\n",
       "</table>\n"
      ],
      "text/latex": [
       "\\begin{tabular}{r|ll}\n",
       " mean & sd\\\\\n",
       "\\hline\n",
       "\t 0.500095   & 0.07021924\\\\\n",
       "\\end{tabular}\n"
      ],
      "text/markdown": [
       "\n",
       "mean | sd | \n",
       "|---|\n",
       "| 0.500095   | 0.07021924 | \n",
       "\n",
       "\n"
      ],
      "text/plain": [
       "  mean     sd        \n",
       "1 0.500095 0.07021924"
      ]
     },
     "metadata": {},
     "output_type": "display_data"
    },
    {
     "data": {
      "text/html": [
       "0.082"
      ],
      "text/latex": [
       "0.082"
      ],
      "text/markdown": [
       "0.082"
      ],
      "text/plain": [
       "[1] 0.082"
      ]
     },
     "metadata": {},
     "output_type": "display_data"
    },
    {
     "data": {
      "image/png": "[encoded data removed]",
      "text/plain": [
       "plot without title"
      ]
     },
     "metadata": {},
     "output_type": "display_data"
    }
   ],
   "source": [
    "# set a seed for random number generation to make sure I get a similar picture on different runs of this code\n",
    "set.seed(1)\n",
    "\n",
    "# how many simulations to perform\n",
    "n_sims <- 10000\n",
    "\n",
    "# sample size to generate in each simulation\n",
    "sample_size <- 50\n",
    "\n",
    "# initialize a storage vector for the results\n",
    "# in R, memory allocation in slow, so it's best to create an empty vector before a for loop,\n",
    "# and then set each element of the vector\n",
    "simulation_results <- data.frame(\n",
    "    sample_mean = numeric(n_sims)\n",
    ")\n",
    "\n",
    "# a for loop runs the commands between the curly brackets {} multiple times\n",
    "# in this case, we run these commands once for each value of i in the vector created by seq_len(n_sims)\n",
    "# it's good practice to create the indices for the loop via seq_len(n_sims) instead of\n",
    "# something like 1:n_sims because this way the loop will run 0 times if n_sims is 0\n",
    "# (if n_sims was equal to 0 and you used 1:n_sims, the loop would run twice:\n",
    "# once for i = 1 and once for i = 0)\n",
    "for(i in seq_len(n_sims)) {\n",
    "    x <- rexp(sample_size, rate = 2)\n",
    "    simulation_results$sample_mean[i] <- mean(x)\n",
    "}\n",
    "\n",
    "simulation_results\n",
    "\n",
    "# Insert code here to make a plot of the simulation results, compared to the approximate normal distribution\n",
    "# you calculated in part (a) for the sampling distribution of the sample mean.\n",
    "# Use ggplot, with geom_density to summarize the results of the sample study\n",
    "# and stat_function to plot the approximate normal distribution.\n",
    "# There is example code for this in the first problem set.\n",
    "ggplot(data = simulation_results, mapping = aes(x = sample_mean)) +\n",
    "  geom_density() +\n",
    "  stat_function(fun = dnorm, args = list(mean = 0.5, sd = sqrt(1/(4 * 50))), color = \"red\")\n",
    "\n",
    "# Insert code here to calculate the mean (using the mean function)\n",
    "# and standard deviation (using the sd function) of the simulation results\n",
    "summarize(simulation_results, mean = mean(sample_mean), sd = sd(sample_mean))\n",
    "\n",
    "# Insert code here to calculate the proportion of simulations where the sample mean was greater than 0.6.\n",
    "# (Note: In the original document, I had asked to you to calculate the proportion of simulations where the\n",
    "# sample mean was greater than 3; I had intended to use 0.6, to match with part b above.)\n",
    "# You can do this in two stages: first, a comparison like simulation_results$sample_mean > 0.6 will return a logical vector,\n",
    "# with TRUE in positions where the condition is met and FALSE in positions where the condition is not met.\n",
    "# Second, R computes the mean of a logical vector as the proportion of entries that are TRUE.\n",
    "# For example, mean(c(TRUE, TRUE, FALSE, FALSE)) = 0.5\n",
    "mean(simulation_results$sample_mean > 0.6)"
   ]
  },
  {
   "cell_type": "markdown",
   "metadata": {},
   "source": [
    "### (d) How do the results from part (c) compare to your results from parts (a) and (b)?\n",
    "\n",
    "Discuss three things:\n",
    " * the plot of the simulated sampling distribution as compared to the normal approximation;\n",
    " * the mean and standard deviation of the simulated sampling distribution as compared to the normal approximation;\n",
    " * the estimated probability that the sample mean will be greater than 0.6 from the simulation study as compared to the probability calculated from the normal approximation."
   ]
  },
  {
   "cell_type": "markdown",
   "metadata": {},
   "source": [
    "The approximation to the sampling distribution from the simulation and the normal distribution approximation from the Central Limit Theorem are similar, but not exactly the same.  There is a very slight right skew in the approximation from simulation that is not captured by the normal distribution.  This right skew is present because the original exponential distribution we are sampling from is skewed right.  On the other hand, the approximation from simulation also has disadvantages.  First, as can be seen from the plot, there are some \"bumps\" in the density curve from the simulation; the black density curve is not a smooth as we might expect.  These don't reflect an actual lack of smoothness in the true sampling distribution - they are an artifact of the random sampling process used to approximate the sampling distribution.  If we increased the number of simulation from 10000 to 1 million, the approximation to the sampling distribution would be smoother.  However, that brings us to the second disadvantage of the simulation-based approach: it is more computationally intensive.  That wasn't such a big deal in this case; it only took a couple of seconds to do the 10000 simulations.  But calculation of the normal distribution approximation is nearly instantaneous, and in more complex models doing many simulations could take a long time.\n",
    "\n",
    "The mean and standard deviation of the approximated sampling distributions agree to three decimal places in both approaches.\n",
    "\n",
    "The approximate probability of observing a sample mean greater than 0.6 is also similar in both approaches: this probability is estimated to be about 0.079 from the CLT normal approximation, and about 0.082 from the simulation-based approach.  The larger probability from the simulation-based approach corresponds to the right skew discussed above.\n",
    "\n",
    "Overall, for most purposes these two approximations to the sampling distribution agree well enough that I'd be comfortable using either one in this case.  If getting exact numbers was important, I'd use an exact specification for the sampling distribution, or use the simulation approach with more simulations.  If the sample size was much smaller, I'd definitely prefer the simulation-based approach.  If the sample size was much larger, the CLT-based approach might be preferred; the sampling distribution is closer to normal with larger sample sizes, and doing the simulations takes longer."
   ]
  }
 ],
 "metadata": {
  "kernelspec": {
   "display_name": "R",
   "language": "R",
   "name": "ir"
  },
  "language_info": {
   "codemirror_mode": "r",
   "file_extension": ".r",
   "mimetype": "text/x-r-source",
   "name": "R",
   "pygments_lexer": "r",
   "version": "3.4.3"
  }
 },
 "nbformat": 4,
 "nbformat_minor": 2
}
